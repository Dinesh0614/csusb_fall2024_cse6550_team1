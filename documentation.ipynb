{
 "cells": [
  {
   "cell_type": "markdown",
   "metadata": {},
   "source": [
    "# Jupyter Notebook Interactive Mode Demo\n",
    "This is a scripting page that prints actual raw data in Python."
   ]
  },
  {
   "cell_type": "code",
   "execution_count": 74,
   "metadata": {},
   "outputs": [],
   "source": [
    "# Importing necessary libraries\n",
    "# 1. Core Packages: dotenv, requests, httpx, and pymilvus.\n",
    "# 2. LangChain and Extensions:\n",
    "#     Langchain is used for processing language chains, and Milvus is the vector database for storing embeddings.\n",
    "#     langchain: Core package.\n",
    "#     langchain-core, langchain-mistralai, langchain-cohere, langchain-milvus, langchain-community, langchain-text-splitters, and langchain-huggingface for additional modules."
   ]
  },
  {
   "cell_type": "code",
   "execution_count": 75,
   "metadata": {},
   "outputs": [
    {
     "name": "stdout",
     "output_type": "stream",
     "text": [
      "Dependencies imported successfully.\n"
     ]
    }
   ],
   "source": [
    "try:\n",
    "    import os\n",
    "    from dotenv import load_dotenv\n",
    "    from langchain.chains.combine_documents import create_stuff_documents_chain\n",
    "    from langchain.schema import Document\n",
    "    from langchain_core.prompts import PromptTemplate\n",
    "    from langchain_mistralai.chat_models import ChatMistralAI\n",
    "    from langchain_milvus import Milvus\n",
    "    from langchain_community.document_loaders import WebBaseLoader, RecursiveUrlLoader\n",
    "    from langchain_text_splitters import RecursiveCharacterTextSplitter\n",
    "    from langchain.chains import create_retrieval_chain\n",
    "    from langchain_huggingface import HuggingFaceEmbeddings\n",
    "    from pymilvus import connections, utility\n",
    "    from requests.exceptions import HTTPError\n",
    "    from httpx import HTTPStatusError\n",
    "    import sqlite3\n",
    "    import warnings\n",
    "except ImportError:\n",
    "    # Installing dependencies if not already installed\n",
    "    !pip install os requests httpx pymilvus sqlite3\n",
    "    !pip install langchain langchain-core langchain-mistralai langchain-cohere langchain-milvus langchain-community langchain-text-splitters langchain-huggingface\n",
    "    # Imports for RAG and other functionality\n",
    "    import os\n",
    "    # from dotenv import load_dotenv\n",
    "    from langchain.chains.combine_documents import create_stuff_documents_chain\n",
    "    from langchain.schema import Document\n",
    "    from langchain_core.prompts import PromptTemplate\n",
    "    from langchain_mistralai.chat_models import ChatMistralAI\n",
    "    from langchain_milvus import Milvus\n",
    "    from langchain_community.document_loaders import WebBaseLoader, RecursiveUrlLoader\n",
    "    from langchain_text_splitters import RecursiveCharacterTextSplitter\n",
    "    from langchain.chains import create_retrieval_chain\n",
    "    from langchain_huggingface import HuggingFaceEmbeddings\n",
    "    from pymilvus import connections, utility\n",
    "    from requests.exceptions import HTTPError\n",
    "    from httpx import HTTPStatusError\n",
    "    import sqlite3\n",
    "    import warnings\n",
    "\n",
    "warnings.filterwarnings('ignore')\n",
    "\n",
    "# Display to confirm successful import\n",
    "print(\"Dependencies imported successfully.\")"
   ]
  },
  {
   "cell_type": "code",
   "execution_count": null,
   "metadata": {},
   "outputs": [],
   "source": []
  }
 ],
 "metadata": {
  "kernelspec": {
   "display_name": "Python 3 (ipykernel)",
   "language": "python",
   "name": "python3"
  },
  "language_info": {
   "codemirror_mode": {
    "name": "ipython",
    "version": 3
   },
   "file_extension": ".py",
   "mimetype": "text/x-python",
   "name": "python",
   "nbconvert_exporter": "python",
   "pygments_lexer": "ipython3",
   "version": "3.8.2"
  }
 },
 "nbformat": 4,
 "nbformat_minor": 4
}
